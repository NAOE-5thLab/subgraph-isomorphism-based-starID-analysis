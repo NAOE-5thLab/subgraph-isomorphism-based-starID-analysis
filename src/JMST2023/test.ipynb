{
 "cells": [
  {
   "cell_type": "code",
   "execution_count": 1,
   "metadata": {},
   "outputs": [],
   "source": [
    "import numpy as np\n",
    "import pandas as pd\n",
    "import matplotlib.pyplot as plt\n",
    "import matplotlib.cm as cm\n",
    "\n",
    "from utils.font import font_setting"
   ]
  },
  {
   "cell_type": "code",
   "execution_count": 2,
   "metadata": {},
   "outputs": [],
   "source": [
    "patterns = [\n",
    "    {'FOV_deg': 20, 'obsMv': 5.5, 'beta': 0.0},\n",
    "    {'FOV_deg': 40, 'obsMv': 5.5, 'beta': 0.0},\n",
    "    {'FOV_deg': 60, 'obsMv': 5.5, 'beta': 0.0},\n",
    "    {'FOV_deg': 80, 'obsMv': 5.5, 'beta': 0.0},\n",
    "    {'FOV_deg': 20, 'obsMv': 4.5, 'beta': 0.0},\n",
    "    {'FOV_deg': 40, 'obsMv': 4.5, 'beta': 0.0},\n",
    "    {'FOV_deg': 60, 'obsMv': 4.5, 'beta': 0.0},\n",
    "    {'FOV_deg': 80, 'obsMv': 4.5, 'beta': 0.0},\n",
    "    {'FOV_deg': 20, 'obsMv': 3.5, 'beta': 0.0},\n",
    "    {'FOV_deg': 40, 'obsMv': 3.5, 'beta': 0.0},\n",
    "    {'FOV_deg': 60, 'obsMv': 3.5, 'beta': 0.0},\n",
    "    {'FOV_deg': 80, 'obsMv': 3.5, 'beta': 0.0},\n",
    "    {'FOV_deg': 20, 'obsMv': 5.5, 'beta': 0.2},\n",
    "    {'FOV_deg': 40, 'obsMv': 5.5, 'beta': 0.2},\n",
    "    {'FOV_deg': 60, 'obsMv': 5.5, 'beta': 0.2},\n",
    "    {'FOV_deg': 80, 'obsMv': 5.5, 'beta': 0.2},\n",
    "    {'FOV_deg': 20, 'obsMv': 4.5, 'beta': 0.2},\n",
    "    {'FOV_deg': 40, 'obsMv': 4.5, 'beta': 0.2},\n",
    "    {'FOV_deg': 60, 'obsMv': 4.5, 'beta': 0.2},\n",
    "    {'FOV_deg': 80, 'obsMv': 4.5, 'beta': 0.2},\n",
    "    {'FOV_deg': 20, 'obsMv': 3.5, 'beta': 0.2},\n",
    "    {'FOV_deg': 40, 'obsMv': 3.5, 'beta': 0.2},\n",
    "    {'FOV_deg': 60, 'obsMv': 3.5, 'beta': 0.2},\n",
    "    {'FOV_deg': 80, 'obsMv': 3.5, 'beta': 0.2},\n",
    "    {'FOV_deg': 20, 'obsMv': 5.5, 'beta': 0.4},\n",
    "    {'FOV_deg': 40, 'obsMv': 5.5, 'beta': 0.4},\n",
    "    {'FOV_deg': 60, 'obsMv': 5.5, 'beta': 0.4},\n",
    "    {'FOV_deg': 80, 'obsMv': 5.5, 'beta': 0.4},\n",
    "    {'FOV_deg': 20, 'obsMv': 4.5, 'beta': 0.4},\n",
    "    {'FOV_deg': 40, 'obsMv': 4.5, 'beta': 0.4},\n",
    "    {'FOV_deg': 60, 'obsMv': 4.5, 'beta': 0.4},\n",
    "    {'FOV_deg': 80, 'obsMv': 4.5, 'beta': 0.4},\n",
    "    {'FOV_deg': 20, 'obsMv': 3.5, 'beta': 0.4},\n",
    "    {'FOV_deg': 40, 'obsMv': 3.5, 'beta': 0.4},\n",
    "    {'FOV_deg': 60, 'obsMv': 3.5, 'beta': 0.4},\n",
    "    {'FOV_deg': 80, 'obsMv': 3.5, 'beta': 0.4},\n",
    "    {'FOV_deg': 20, 'obsMv': 5.5, 'beta': 0.6},\n",
    "    {'FOV_deg': 40, 'obsMv': 5.5, 'beta': 0.6},\n",
    "    {'FOV_deg': 60, 'obsMv': 5.5, 'beta': 0.6},\n",
    "    {'FOV_deg': 80, 'obsMv': 5.5, 'beta': 0.6},\n",
    "    {'FOV_deg': 20, 'obsMv': 4.5, 'beta': 0.6},\n",
    "    {'FOV_deg': 40, 'obsMv': 4.5, 'beta': 0.6},\n",
    "    {'FOV_deg': 60, 'obsMv': 4.5, 'beta': 0.6},\n",
    "    {'FOV_deg': 80, 'obsMv': 4.5, 'beta': 0.6},\n",
    "    {'FOV_deg': 20, 'obsMv': 3.5, 'beta': 0.6},\n",
    "    {'FOV_deg': 40, 'obsMv': 3.5, 'beta': 0.6},\n",
    "    {'FOV_deg': 60, 'obsMv': 3.5, 'beta': 0.6},\n",
    "    {'FOV_deg': 80, 'obsMv': 3.5, 'beta': 0.6},\n",
    "    {'FOV_deg': 20, 'obsMv': 5.5, 'beta': 0.8},\n",
    "    {'FOV_deg': 40, 'obsMv': 5.5, 'beta': 0.8},\n",
    "    {'FOV_deg': 60, 'obsMv': 5.5, 'beta': 0.8},\n",
    "    {'FOV_deg': 80, 'obsMv': 5.5, 'beta': 0.8},\n",
    "    {'FOV_deg': 20, 'obsMv': 4.5, 'beta': 0.8},\n",
    "    {'FOV_deg': 40, 'obsMv': 4.5, 'beta': 0.8},\n",
    "    {'FOV_deg': 60, 'obsMv': 4.5, 'beta': 0.8},\n",
    "    {'FOV_deg': 80, 'obsMv': 4.5, 'beta': 0.8},\n",
    "    {'FOV_deg': 20, 'obsMv': 3.5, 'beta': 0.8},\n",
    "    {'FOV_deg': 40, 'obsMv': 3.5, 'beta': 0.8},\n",
    "    {'FOV_deg': 60, 'obsMv': 3.5, 'beta': 0.8},\n",
    "    {'FOV_deg': 80, 'obsMv': 3.5, 'beta': 0.8},\n",
    "]\n",
    "\n",
    "\n",
    "### Parameter ###\n",
    "# sys\n",
    "log_dir = './log/'\n"
   ]
  },
  {
   "cell_type": "code",
   "execution_count": 19,
   "metadata": {},
   "outputs": [],
   "source": [
    "logs = []\n",
    "for pattern in patterns:\n",
    "    # param\n",
    "    FOV_deg = pattern['FOV_deg']\n",
    "    obsMv = pattern['obsMv']\n",
    "    cover_beta = pattern['beta']\n",
    "    log = pattern\n",
    "    #\n",
    "    fname = f'inFOV_prob_FOV{FOV_deg}_obsMv{obsMv}_beta{cover_beta}.csv'\n",
    "    df = pd.read_csv(log_dir+fname)\n",
    "    pns = df['prob'].to_numpy()\n",
    "    #\n",
    "    log['P(n<4)'] = pns[:4].sum()\n",
    "    log['P(n<10)'] = pns[:10].sum()\n",
    "    #\n",
    "    logs.append(log)\n",
    "df = pd.DataFrame(logs)"
   ]
  },
  {
   "cell_type": "code",
   "execution_count": 25,
   "metadata": {},
   "outputs": [
    {
     "ename": "SyntaxError",
     "evalue": "invalid syntax. Perhaps you forgot a comma? (3486810122.py, line 12)",
     "output_type": "error",
     "traceback": [
      "\u001b[1;36m  Input \u001b[1;32mIn [25]\u001b[1;36m\u001b[0m\n\u001b[1;33m    ax1.plot(df_temp['FOV_deg'], df_temp['P(n<4)'], marker=marker, color = cm.viridis(0/5, alpha=0.5, label='$\\\\beta = 0.0$')\u001b[0m\n\u001b[1;37m                                                                           ^\u001b[0m\n\u001b[1;31mSyntaxError\u001b[0m\u001b[1;31m:\u001b[0m invalid syntax. Perhaps you forgot a comma?\n"
     ]
    }
   ],
   "source": [
    "font_setting()\n",
    "DPI = 200\n",
    "FIG_SIZE = (8, 3.5)\n",
    "marker = 'o'\n",
    "\n",
    "fig = plt.figure(figsize=FIG_SIZE, dpi=DPI)\n",
    "ax1 = fig.add_subplot(131)\n",
    "ax2 = fig.add_subplot(132)\n",
    "ax3 = fig.add_subplot(133)\n",
    "\n",
    "df_temp = df[df['obsMv'] == 3.5][df['beta'] == 0.0]\n",
    "ax1.plot(df_temp['FOV_deg'], df_temp['P(n<4)'], marker=marker, color = cm.viridis(0/5), alpha=0.5, label='$\\\\beta = 0.0$')\n",
    "df_temp = df[df['obsMv'] == 3.5][df['beta'] == 0.2]\n",
    "ax1.plot(df_temp['FOV_deg'], df_temp['P(n<4)'], marker=marker, color = cm.viridis(1/5), alpha=0.5, label='$\\\\beta = 0.2$')\n",
    "df_temp = df[df['obsMv'] == 3.5][df['beta'] == 0.4]\n",
    "ax1.plot(df_temp['FOV_deg'], df_temp['P(n<4)'], marker=marker, color = cm.viridis(2/5), alpha=0.5, label='$\\\\beta = 0.4$')\n",
    "df_temp = df[df['obsMv'] == 3.5][df['beta'] == 0.6]\n",
    "ax1.plot(df_temp['FOV_deg'], df_temp['P(n<4)'], marker=marker, color = cm.viridis(3/5), alpha=0.5, label='$\\\\beta = 0.6$')\n",
    "df_temp = df[df['obsMv'] == 3.5][df['beta'] == 0.8]\n",
    "ax1.plot(df_temp['FOV_deg'], df_temp['P(n<4)'], marker=marker, color = cm.viridis(4/5), alpha=0.5, label='$\\\\beta = 0.8$')\n",
    "ax1.set_title('$M_{v} = 3.5$')\n",
    "ax1.set_xlabel('FOV [deg.]')\n",
    "ax1.set_ylabel('$P(N_{\\mathrm{obs}} < 4 \\mid M_v, \\\\theta_{\\mathrm{FOV}}, \\\\beta)$')\n",
    "ax1.set_ylim(-0.05, 1.05)\n",
    "\n",
    "df_temp = df[df['obsMv'] == 4.5][df['beta'] == 0.0]\n",
    "ax2.plot(df_temp['FOV_deg'], df_temp['P(n<4)'], marker=marker, color = cm.viridis(0/5), alpha=0.5, label='$\\\\beta = 0.0$')\n",
    "df_temp = df[df['obsMv'] == 4.5][df['beta'] == 0.2]\n",
    "ax2.plot(df_temp['FOV_deg'], df_temp['P(n<4)'], marker=marker, color = cm.viridis(1/5), alpha=0.5, label='$\\\\beta = 0.2$')\n",
    "df_temp = df[df['obsMv'] == 4.5][df['beta'] == 0.4]\n",
    "ax2.plot(df_temp['FOV_deg'], df_temp['P(n<4)'], marker=marker, color = cm.viridis(2/5), alpha=0.5, label='$\\\\beta = 0.4$')\n",
    "df_temp = df[df['obsMv'] == 4.5][df['beta'] == 0.6]\n",
    "ax2.plot(df_temp['FOV_deg'], df_temp['P(n<4)'], marker=marker, color = cm.viridis(3/5), alpha=0.5, label='$\\\\beta = 0.6$')\n",
    "df_temp = df[df['obsMv'] == 4.5][df['beta'] == 0.8]\n",
    "ax2.plot(df_temp['FOV_deg'], df_temp['P(n<4)'], marker=marker, color = cm.viridis(4/5), alpha=0.5, label='$\\\\beta = 0.8$')\n",
    "ax2.set_title('$M_{v} = 4.5$')\n",
    "ax2.set_xlabel('FOV [deg.]')\n",
    "ax2.set_ylabel('$P(N_{\\mathrm{obs}} < 4 \\mid M_v, \\\\theta_{\\mathrm{FOV}}, \\\\beta)$')\n",
    "ax2.set_ylim(-0.05, 1.05)\n",
    "\n",
    "df_temp = df[df['obsMv'] == 5.5][df['beta'] == 0.0]\n",
    "ax3.plot(df_temp['FOV_deg'], df_temp['P(n<4)'], marker=marker, color = cm.viridis(0/5), alpha=0.5, label='$\\\\beta = 0.0$')\n",
    "df_temp = df[df['obsMv'] == 5.5][df['beta'] == 0.2]\n",
    "ax3.plot(df_temp['FOV_deg'], df_temp['P(n<4)'], marker=marker, color = cm.viridis(1/5), alpha=0.5, label='$\\\\beta = 0.2$')\n",
    "df_temp = df[df['obsMv'] == 5.5][df['beta'] == 0.4]\n",
    "ax3.plot(df_temp['FOV_deg'], df_temp['P(n<4)'], marker=marker, color = cm.viridis(2/5), alpha=0.5, label='$\\\\beta = 0.4$')\n",
    "df_temp = df[df['obsMv'] == 5.5][df['beta'] == 0.6]\n",
    "ax3.plot(df_temp['FOV_deg'], df_temp['P(n<4)'], marker=marker, color = cm.viridis(3/5), alpha=0.5, label='$\\\\beta = 0.6$')\n",
    "df_temp = df[df['obsMv'] == 5.5][df['beta'] == 0.8]\n",
    "ax3.plot(df_temp['FOV_deg'], df_temp['P(n<4)'], marker=marker, color = cm.viridis(4/5), alpha=0.5, label='$\\\\beta = 0.8$')\n",
    "ax3.set_title('$M_{v} = 5.5$')\n",
    "ax3.set_xlabel('FOV [deg.]')\n",
    "ax3.set_ylabel('$P(N_{\\mathrm{obs}} < 4 \\mid M_v, \\\\theta_{\\mathrm{FOV}}, \\\\beta)$')\n",
    "ax3.set_ylim(-0.05, 1.05)\n",
    "ax3.legend()\n",
    "\n",
    "fig.tight_layout()\n"
   ]
  },
  {
   "cell_type": "code",
   "execution_count": 22,
   "metadata": {},
   "outputs": [
    {
     "ename": "NameError",
     "evalue": "name 'cm' is not defined",
     "output_type": "error",
     "traceback": [
      "\u001b[1;31m---------------------------------------------------------------------------\u001b[0m",
      "\u001b[1;31mNameError\u001b[0m                                 Traceback (most recent call last)",
      "\u001b[1;32mc:\\Users\\KoukiWakita\\Documents\\GitHub\\subgraph-isomorphism-based-starID-analysis\\src\\JMST2023\\test.ipynb Cell 5\u001b[0m in \u001b[0;36m<cell line: 1>\u001b[1;34m()\u001b[0m\n\u001b[1;32m----> <a href='vscode-notebook-cell:/c%3A/Users/KoukiWakita/Documents/GitHub/subgraph-isomorphism-based-starID-analysis/src/JMST2023/test.ipynb#W3sZmlsZQ%3D%3D?line=0'>1</a>\u001b[0m cm\u001b[39m.\u001b[39mviridis\n",
      "\u001b[1;31mNameError\u001b[0m: name 'cm' is not defined"
     ]
    }
   ],
   "source": []
  },
  {
   "cell_type": "code",
   "execution_count": null,
   "metadata": {},
   "outputs": [],
   "source": []
  }
 ],
 "metadata": {
  "kernelspec": {
   "display_name": "starid",
   "language": "python",
   "name": "python3"
  },
  "language_info": {
   "codemirror_mode": {
    "name": "ipython",
    "version": 3
   },
   "file_extension": ".py",
   "mimetype": "text/x-python",
   "name": "python",
   "nbconvert_exporter": "python",
   "pygments_lexer": "ipython3",
   "version": "3.10.6"
  },
  "orig_nbformat": 4,
  "vscode": {
   "interpreter": {
    "hash": "33e58cd307bfa13f99fa1c32ebde38874509e4ad92f2b00f93df395151dc3224"
   }
  }
 },
 "nbformat": 4,
 "nbformat_minor": 2
}
