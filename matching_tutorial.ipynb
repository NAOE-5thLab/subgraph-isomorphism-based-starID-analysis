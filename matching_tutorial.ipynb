{
 "cells": [
  {
   "cell_type": "code",
   "execution_count": 1,
   "metadata": {},
   "outputs": [
    {
     "name": "stdout",
     "output_type": "stream",
     "text": [
      "Intel MKL WARNING: Support of Intel(R) Streaming SIMD Extensions 4.2 (Intel(R) SSE4.2) enabled only processors has been deprecated. Intel oneAPI Math Kernel Library 2025.0 will require Intel(R) Advanced Vector Extensions (Intel(R) AVX) instructions.\n",
      "Intel MKL WARNING: Support of Intel(R) Streaming SIMD Extensions 4.2 (Intel(R) SSE4.2) enabled only processors has been deprecated. Intel oneAPI Math Kernel Library 2025.0 will require Intel(R) Advanced Vector Extensions (Intel(R) AVX) instructions.\n"
     ]
    }
   ],
   "source": [
    "import numpy as np\n",
    "\n",
    "from subgraph_matching import (\n",
    "    YaleStarCatalog,\n",
    "    StarDatabase,\n",
    "    PairDatabase,\n",
    "    SubgraphIsomorphismBasedMatching,\n",
    "    equatorial2vec,\n",
    "    vec2equatorial,\n",
    ")\n"
   ]
  },
  {
   "cell_type": "code",
   "execution_count": 2,
   "metadata": {},
   "outputs": [],
   "source": [
    "log_dir = \"./log/\"\n",
    "cash_dir = f\"{log_dir}/cash/\"\n",
    "#\n",
    "epsilon = np.deg2rad(0.1)\n",
    "theta_FOV = np.deg2rad(80)\n",
    "theta_min = epsilon\n",
    "theta_max = 2 * np.arctan(np.sqrt(2) * np.tan(theta_FOV / 2))\n",
    "M_lim_max = 5.5"
   ]
  },
  {
   "cell_type": "code",
   "execution_count": 3,
   "metadata": {},
   "outputs": [],
   "source": [
    "### Database ###\n",
    "# Catalog\n",
    "catalog = YaleStarCatalog()\n",
    "df_D_C = catalog.get_df()\n",
    "s_vec = equatorial2vec(catalog.get_RA(), catalog.get_DE())\n",
    "df_D_C.loc[:, (\"s_X\", \"s_Y\", \"s_Z\")] = s_vec\n",
    "# StarDB\n",
    "D_DB = StarDatabase(df_D_C)\n",
    "D_DB.filtering_by_visual_magnitude(M_lim_max)\n",
    "D_DB.filtering_by_multiple_stars(theta_min)\n",
    "D_DB_HR = D_DB.get_HR()\n",
    "\n",
    "# PairDB\n",
    "P_DB = PairDatabase(D_DB.get_df(), log_dir=cash_dir)\n",
    "P_DB.create_catalog(theta_max)\n",
    "# matching\n",
    "matching = SubgraphIsomorphismBasedMatching(D_DB, P_DB, epsilon)\n"
   ]
  },
  {
   "cell_type": "code",
   "execution_count": 4,
   "metadata": {},
   "outputs": [],
   "source": [
    "### Stars (Summer Triangle) ###\n",
    "alpha_Deneb = (20 + 41 / 60 + 25.91514 / 3600) * np.pi / 12\n",
    "alpha_Altair = (19 + 50 / 60 + 46.99855 / 3600) * np.pi / 12\n",
    "alpha_Vega = (18 + 36 / 60 + 56.33635 / 3600) * np.pi / 12\n",
    "alpha_Alpheratz = (0 + 8 / 60 + 23.25988 / 3600) * np.pi / 12\n",
    "alpha_Markab = (23 + 4 / 60 + 45.65345 / 3600) * np.pi / 12\n",
    "\n",
    "delta_Deneb = (45 + 16 / 60 + 49.2197 / 3600) * np.pi / 180\n",
    "delta_Altair = (8 + 52 / 60 + 5.9563 / 3600) * np.pi / 180\n",
    "delta_Vega = (38 + 47 / 60 + 1.28 / 3600) * np.pi / 180\n",
    "delta_Alpheratz = (29 + 5 / 60 + 25.552 / 3600) * np.pi / 180\n",
    "delta_Markab = (15 + 12 / 60 + 18.9617 / 3600) * np.pi / 180\n",
    "\n",
    "s_Deneb = equatorial2vec(alpha_Deneb, delta_Deneb)\n",
    "s_Altair = equatorial2vec(alpha_Altair, delta_Altair)\n",
    "s_Vega = equatorial2vec(alpha_Vega, delta_Vega)\n",
    "s_Alpheratz = equatorial2vec(alpha_Alpheratz, delta_Alpheratz)\n",
    "s_Markab = equatorial2vec(alpha_Markab, delta_Markab)"
   ]
  },
  {
   "cell_type": "code",
   "execution_count": 5,
   "metadata": {},
   "outputs": [
    {
     "name": "stdout",
     "output_type": "stream",
     "text": [
      "Matching number of [0] : 2741\n",
      "Matching number of [0, 1] : 5798\n",
      "\n"
     ]
    }
   ],
   "source": [
    "# Example of a failed match\n",
    "candi_IDs, obs_IDs, info = matching.match_stars([s_Alpheratz, s_Altair])\n",
    "print(info)"
   ]
  },
  {
   "cell_type": "code",
   "execution_count": 6,
   "metadata": {},
   "outputs": [
    {
     "name": "stdout",
     "output_type": "stream",
     "text": [
      "Matching number of [0] : 2741\n",
      "Matching number of [0, 1] : 4176\n",
      "Matching number of [0, 1, 2] : 28\n",
      "Matching number of [0, 1, 2, 3] : 2\n",
      "Matching number of [0, 1, 2, 3, 4] : 1\n",
      "\n"
     ]
    }
   ],
   "source": [
    "# Example of successful matching\n",
    "candi_IDs, obs_IDs, info = matching.match_stars([s_Deneb, s_Altair, s_Vega, s_Alpheratz, s_Markab])\n",
    "print(info)"
   ]
  },
  {
   "cell_type": "code",
   "execution_count": 7,
   "metadata": {},
   "outputs": [
    {
     "name": "stdout",
     "output_type": "stream",
     "text": [
      "Matching number of [1] : 2741\n",
      "Matching number of [1, 2] : 3728\n",
      "Matching number of [1, 2, 0] : 28\n",
      "Matching number of [1, 2, 0, 4] : 1\n",
      "\n"
     ]
    }
   ],
   "source": [
    "# Example of matching with random pattern\n",
    "candi_IDs, obs_IDs, info = matching.match_stars([s_Deneb, s_Altair, s_Vega, s_Alpheratz, s_Markab], seed=1852)\n",
    "print(info)"
   ]
  },
  {
   "cell_type": "code",
   "execution_count": 8,
   "metadata": {},
   "outputs": [
    {
     "data": {
      "text/html": [
       "<div>\n",
       "<style scoped>\n",
       "    .dataframe tbody tr th:only-of-type {\n",
       "        vertical-align: middle;\n",
       "    }\n",
       "\n",
       "    .dataframe tbody tr th {\n",
       "        vertical-align: top;\n",
       "    }\n",
       "\n",
       "    .dataframe thead th {\n",
       "        text-align: right;\n",
       "    }\n",
       "</style>\n",
       "<table border=\"1\" class=\"dataframe\">\n",
       "  <thead>\n",
       "    <tr style=\"text-align: right;\">\n",
       "      <th></th>\n",
       "      <th>HR</th>\n",
       "      <th>Name</th>\n",
       "      <th>RAh [h]</th>\n",
       "      <th>RAm [min]</th>\n",
       "      <th>RAs [s]</th>\n",
       "      <th>DE-</th>\n",
       "      <th>DEd [deg]</th>\n",
       "      <th>DEm [arcmin]</th>\n",
       "      <th>DEs [arcsec]</th>\n",
       "    </tr>\n",
       "  </thead>\n",
       "  <tbody>\n",
       "    <tr>\n",
       "      <th>7000</th>\n",
       "      <td>7001</td>\n",
       "      <td>3Alp Lyr</td>\n",
       "      <td>18.0</td>\n",
       "      <td>36.0</td>\n",
       "      <td>56.3</td>\n",
       "      <td>+</td>\n",
       "      <td>38.0</td>\n",
       "      <td>47.0</td>\n",
       "      <td>1.0</td>\n",
       "    </tr>\n",
       "    <tr>\n",
       "      <th>7556</th>\n",
       "      <td>7557</td>\n",
       "      <td>53Alp Aql</td>\n",
       "      <td>19.0</td>\n",
       "      <td>50.0</td>\n",
       "      <td>47.0</td>\n",
       "      <td>+</td>\n",
       "      <td>8.0</td>\n",
       "      <td>52.0</td>\n",
       "      <td>6.0</td>\n",
       "    </tr>\n",
       "    <tr>\n",
       "      <th>7923</th>\n",
       "      <td>7924</td>\n",
       "      <td>50Alp Cyg</td>\n",
       "      <td>20.0</td>\n",
       "      <td>41.0</td>\n",
       "      <td>25.9</td>\n",
       "      <td>+</td>\n",
       "      <td>45.0</td>\n",
       "      <td>16.0</td>\n",
       "      <td>49.0</td>\n",
       "    </tr>\n",
       "    <tr>\n",
       "      <th>8780</th>\n",
       "      <td>8781</td>\n",
       "      <td>54Alp Peg</td>\n",
       "      <td>23.0</td>\n",
       "      <td>4.0</td>\n",
       "      <td>45.7</td>\n",
       "      <td>+</td>\n",
       "      <td>15.0</td>\n",
       "      <td>12.0</td>\n",
       "      <td>19.0</td>\n",
       "    </tr>\n",
       "  </tbody>\n",
       "</table>\n",
       "</div>"
      ],
      "text/plain": [
       "        HR       Name  RAh [h]  RAm [min]  RAs [s] DE-  DEd [deg]  \\\n",
       "7000  7001   3Alp Lyr     18.0       36.0     56.3   +       38.0   \n",
       "7556  7557  53Alp Aql     19.0       50.0     47.0   +        8.0   \n",
       "7923  7924  50Alp Cyg     20.0       41.0     25.9   +       45.0   \n",
       "8780  8781  54Alp Peg     23.0        4.0     45.7   +       15.0   \n",
       "\n",
       "      DEm [arcmin]  DEs [arcsec]  \n",
       "7000          47.0           1.0  \n",
       "7556          52.0           6.0  \n",
       "7923          16.0          49.0  \n",
       "8780          12.0          19.0  "
      ]
     },
     "execution_count": 8,
     "metadata": {},
     "output_type": "execute_result"
    }
   ],
   "source": [
    "candi_HRs = [D_DB.get_HR()[candi_ID] for candi_ID in candi_IDs[-1]]\n",
    "catalog_df = catalog.get_full_df()\n",
    "matching_df = catalog_df[catalog_df[\"HR\"].isin(candi_HRs)]\n",
    "matching_df[[\"HR\", \"Name\", \"RAh [h]\", \"RAm [min]\", \"RAs [s]\", \"DE-\", \"DEd [deg]\", \"DEm [arcmin]\", \"DEs [arcsec]\"]]"
   ]
  },
  {
   "cell_type": "code",
   "execution_count": null,
   "metadata": {},
   "outputs": [],
   "source": []
  }
 ],
 "metadata": {
  "kernelspec": {
   "display_name": "sim",
   "language": "python",
   "name": "python3"
  },
  "language_info": {
   "codemirror_mode": {
    "name": "ipython",
    "version": 3
   },
   "file_extension": ".py",
   "mimetype": "text/x-python",
   "name": "python",
   "nbconvert_exporter": "python",
   "pygments_lexer": "ipython3",
   "version": "3.10.14"
  }
 },
 "nbformat": 4,
 "nbformat_minor": 2
}
